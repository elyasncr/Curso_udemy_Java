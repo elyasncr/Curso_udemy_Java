{
  "cells": [
    {
      "cell_type": "markdown",
      "metadata": {
        "id": "view-in-github",
        "colab_type": "text"
      },
      "source": [
        "<a href=\"https://colab.research.google.com/github/elyasncr/Curso_udemy_Java/blob/main/2_Medidas_de_Dispers%C3%A3o.ipynb\" target=\"_parent\"><img src=\"https://colab.research.google.com/assets/colab-badge.svg\" alt=\"Open In Colab\"/></a>"
      ]
    },
    {
      "cell_type": "markdown",
      "id": "8b1dd2db",
      "metadata": {
        "id": "8b1dd2db"
      },
      "source": [
        "## Medidas de dispersão são medidas estatísticos utilizadas para identificar o grau de variabilidade de um conjunto de dados.\n",
        "<br>\n",
        "\n"
      ]
    },
    {
      "cell_type": "markdown",
      "id": "cd008d4c",
      "metadata": {
        "id": "cd008d4c"
      },
      "source": [
        "### As medidas de dispersão mais comuns são a variância, desvio padrão e coeficiente de variação."
      ]
    },
    {
      "cell_type": "code",
      "execution_count": null,
      "id": "25698ae7",
      "metadata": {
        "id": "25698ae7"
      },
      "outputs": [],
      "source": []
    },
    {
      "cell_type": "code",
      "execution_count": null,
      "id": "fe020102",
      "metadata": {
        "id": "fe020102"
      },
      "outputs": [],
      "source": []
    },
    {
      "cell_type": "markdown",
      "id": "21715a4b",
      "metadata": {
        "id": "21715a4b"
      },
      "source": [
        "### Vamos continuar usando os dados do preço do Big Mac de Julho de 2022.\n",
        "\n",
        "<br>\n",
        "\n",
        "https://www.kaggle.com/datasets/vittoriogiatti/bigmacprice"
      ]
    },
    {
      "cell_type": "markdown",
      "id": "96e4b6f1",
      "metadata": {
        "id": "96e4b6f1"
      },
      "source": [
        "#### Importando a biblioteca pandas (https://pandas.pydata.org)"
      ]
    },
    {
      "cell_type": "code",
      "execution_count": null,
      "id": "fd3c4c2f",
      "metadata": {
        "id": "fd3c4c2f"
      },
      "outputs": [],
      "source": [
        "import pandas"
      ]
    },
    {
      "cell_type": "markdown",
      "id": "ebced3a0",
      "metadata": {
        "id": "ebced3a0"
      },
      "source": [
        "#### Lendo os dados, que estão em csv"
      ]
    },
    {
      "cell_type": "code",
      "execution_count": null,
      "id": "afe20312",
      "metadata": {
        "id": "afe20312"
      },
      "outputs": [],
      "source": [
        "df = pandas.read_csv('BigmacPriceJuly2022.csv')"
      ]
    },
    {
      "cell_type": "code",
      "execution_count": null,
      "id": "069f4ca0",
      "metadata": {
        "id": "069f4ca0",
        "outputId": "3793da3a-487f-452f-8e0f-d1406795fe95"
      },
      "outputs": [
        {
          "data": {
            "text/html": [
              "<div>\n",
              "<style scoped>\n",
              "    .dataframe tbody tr th:only-of-type {\n",
              "        vertical-align: middle;\n",
              "    }\n",
              "\n",
              "    .dataframe tbody tr th {\n",
              "        vertical-align: top;\n",
              "    }\n",
              "\n",
              "    .dataframe thead th {\n",
              "        text-align: right;\n",
              "    }\n",
              "</style>\n",
              "<table border=\"1\" class=\"dataframe\">\n",
              "  <thead>\n",
              "    <tr style=\"text-align: right;\">\n",
              "      <th></th>\n",
              "      <th>date</th>\n",
              "      <th>currency_code</th>\n",
              "      <th>name</th>\n",
              "      <th>local_price</th>\n",
              "      <th>dollar_ex</th>\n",
              "      <th>dollar_price</th>\n",
              "    </tr>\n",
              "  </thead>\n",
              "  <tbody>\n",
              "    <tr>\n",
              "      <th>0</th>\n",
              "      <td>2022-07-01</td>\n",
              "      <td>ARS</td>\n",
              "      <td>Argentina</td>\n",
              "      <td>590.00</td>\n",
              "      <td>129</td>\n",
              "      <td>4.57</td>\n",
              "    </tr>\n",
              "    <tr>\n",
              "      <th>1</th>\n",
              "      <td>2022-07-01</td>\n",
              "      <td>AUD</td>\n",
              "      <td>Australia</td>\n",
              "      <td>6.70</td>\n",
              "      <td>1</td>\n",
              "      <td>6.70</td>\n",
              "    </tr>\n",
              "    <tr>\n",
              "      <th>2</th>\n",
              "      <td>2022-07-01</td>\n",
              "      <td>EUR</td>\n",
              "      <td>Austria</td>\n",
              "      <td>4.35</td>\n",
              "      <td>1</td>\n",
              "      <td>4.35</td>\n",
              "    </tr>\n",
              "    <tr>\n",
              "      <th>3</th>\n",
              "      <td>2022-07-01</td>\n",
              "      <td>AZN</td>\n",
              "      <td>Azerbaijan</td>\n",
              "      <td>4.70</td>\n",
              "      <td>1</td>\n",
              "      <td>4.70</td>\n",
              "    </tr>\n",
              "    <tr>\n",
              "      <th>4</th>\n",
              "      <td>2022-07-01</td>\n",
              "      <td>BHD</td>\n",
              "      <td>Bahrain</td>\n",
              "      <td>1.60</td>\n",
              "      <td>1</td>\n",
              "      <td>1.60</td>\n",
              "    </tr>\n",
              "  </tbody>\n",
              "</table>\n",
              "</div>"
            ],
            "text/plain": [
              "         date currency_code        name  local_price  dollar_ex  dollar_price\n",
              "0  2022-07-01           ARS   Argentina       590.00        129          4.57\n",
              "1  2022-07-01           AUD   Australia         6.70          1          6.70\n",
              "2  2022-07-01           EUR     Austria         4.35          1          4.35\n",
              "3  2022-07-01           AZN  Azerbaijan         4.70          1          4.70\n",
              "4  2022-07-01           BHD     Bahrain         1.60          1          1.60"
            ]
          },
          "execution_count": 3,
          "metadata": {},
          "output_type": "execute_result"
        }
      ],
      "source": [
        "df.head()"
      ]
    },
    {
      "cell_type": "code",
      "execution_count": null,
      "id": "25eb2c78",
      "metadata": {
        "id": "25eb2c78"
      },
      "outputs": [],
      "source": []
    },
    {
      "cell_type": "markdown",
      "id": "ac5c78b1",
      "metadata": {
        "id": "ac5c78b1"
      },
      "source": [
        "### Descrição das colunas\n",
        "\n",
        "* **`date`** - Data do registro\n",
        "* **`currency_code`** - Código ISO 4217 internacional da moeda do país\n",
        "* **`name`** - Nome do país\n",
        "* **`local_price`** - Preço do Big Mac na moeda local\n",
        "* **`dollar_ex`** - Taxa de Conversão do dólar americano para a moeda local\n",
        "* **`local_price`** - Preço do Big Mac em dólares americanos\n"
      ]
    },
    {
      "cell_type": "code",
      "execution_count": null,
      "id": "d09eedf7",
      "metadata": {
        "id": "d09eedf7"
      },
      "outputs": [],
      "source": []
    },
    {
      "cell_type": "code",
      "execution_count": null,
      "id": "52e88b6d",
      "metadata": {
        "id": "52e88b6d"
      },
      "outputs": [],
      "source": []
    },
    {
      "cell_type": "markdown",
      "id": "07c7c5ea",
      "metadata": {
        "id": "07c7c5ea"
      },
      "source": [
        "----"
      ]
    },
    {
      "cell_type": "markdown",
      "id": "4c0ce222",
      "metadata": {
        "id": "4c0ce222"
      },
      "source": [
        "`Variância`"
      ]
    },
    {
      "cell_type": "markdown",
      "id": "df00fdb7",
      "metadata": {
        "id": "df00fdb7"
      },
      "source": [
        "## A variância é uma medida de dispersão que nos ajuda a entender o quão longe da média os dados estão.\n",
        "\n",
        "### Na prática, a variância é a média do quadrado das distâncias entre cada observação e a média.\n",
        "\n",
        "![alt_text](https://www.onlinemathlearning.com/image-files/population-variance.png)"
      ]
    },
    {
      "cell_type": "markdown",
      "id": "80c396f2",
      "metadata": {
        "id": "80c396f2"
      },
      "source": [
        "### Por que precisamos elevar ao quadrado??"
      ]
    },
    {
      "cell_type": "markdown",
      "id": "1966d1ce",
      "metadata": {
        "id": "1966d1ce"
      },
      "source": [
        "Queremos medir a distância entre cada observação e a média, mas pode ser que alguma observação seja menor do que a média! Nesse caso, somente fazer a diferença entre a observação e a média daria um valor negativo, e acabaria se anulando com as outras distâncias."
      ]
    },
    {
      "cell_type": "code",
      "execution_count": null,
      "id": "bae05e11",
      "metadata": {
        "id": "bae05e11"
      },
      "outputs": [],
      "source": [
        "lista_exemplo_variancia = [1 , 2, 3 , 4, 5]"
      ]
    },
    {
      "cell_type": "code",
      "execution_count": null,
      "id": "795f43c0",
      "metadata": {
        "id": "795f43c0"
      },
      "outputs": [],
      "source": [
        "def media(lista):\n",
        "    return sum(lista)/len(lista)"
      ]
    },
    {
      "cell_type": "code",
      "execution_count": null,
      "id": "0043f5b3",
      "metadata": {
        "id": "0043f5b3",
        "outputId": "ac05d69b-0d85-401b-e29d-ae05b46f9123"
      },
      "outputs": [
        {
          "data": {
            "text/plain": [
              "3.0"
            ]
          },
          "execution_count": 8,
          "metadata": {},
          "output_type": "execute_result"
        }
      ],
      "source": [
        "media(lista_exemplo_variancia)"
      ]
    },
    {
      "cell_type": "code",
      "execution_count": null,
      "id": "df43273e",
      "metadata": {
        "id": "df43273e",
        "outputId": "bc9288e2-5088-41c3-cc67-46e972a029a5"
      },
      "outputs": [
        {
          "data": {
            "text/plain": [
              "-2"
            ]
          },
          "execution_count": 9,
          "metadata": {},
          "output_type": "execute_result"
        }
      ],
      "source": [
        "1 - 3"
      ]
    },
    {
      "cell_type": "code",
      "execution_count": null,
      "id": "8fdab6c1",
      "metadata": {
        "id": "8fdab6c1",
        "outputId": "8996ec81-e1db-4f70-c38d-57c8efe0167e"
      },
      "outputs": [
        {
          "data": {
            "text/plain": [
              "0"
            ]
          },
          "execution_count": 10,
          "metadata": {},
          "output_type": "execute_result"
        }
      ],
      "source": [
        "(1-3) + (2-3) + (3-3) + (4-3) + (5-3)"
      ]
    },
    {
      "cell_type": "markdown",
      "id": "3e913155",
      "metadata": {
        "id": "3e913155"
      },
      "source": [
        "#### Nesse exemplo, todas as distâncias se anulariam e diríamos que os dados não tem variação alguma, o que não é verdade!"
      ]
    },
    {
      "cell_type": "code",
      "execution_count": null,
      "id": "1f184a84",
      "metadata": {
        "id": "1f184a84",
        "outputId": "00e6a74e-780c-4c84-fc56-55328211cfe7"
      },
      "outputs": [
        {
          "data": {
            "text/plain": [
              "10"
            ]
          },
          "execution_count": 11,
          "metadata": {},
          "output_type": "execute_result"
        }
      ],
      "source": [
        "(1-3)**2 + (2-3)**2 + (3-3)**2 + (4-3)**2 + (5-3)**2"
      ]
    },
    {
      "cell_type": "markdown",
      "id": "c3a27919",
      "metadata": {
        "id": "c3a27919"
      },
      "source": [
        "Quando elevamos um número ao quadrado, o resultado é sempre positivo e por isso elevamos as diferenças ao quadrado no caso da variância!"
      ]
    },
    {
      "cell_type": "code",
      "execution_count": null,
      "id": "48f5cf26",
      "metadata": {
        "id": "48f5cf26"
      },
      "outputs": [],
      "source": []
    },
    {
      "cell_type": "code",
      "execution_count": null,
      "id": "3bd5b235",
      "metadata": {
        "id": "3bd5b235"
      },
      "outputs": [],
      "source": []
    },
    {
      "cell_type": "code",
      "execution_count": null,
      "id": "e3b610ba",
      "metadata": {
        "id": "e3b610ba"
      },
      "outputs": [],
      "source": []
    },
    {
      "cell_type": "markdown",
      "id": "871472d6",
      "metadata": {
        "id": "871472d6"
      },
      "source": [
        "### Vamos tentar implementar a fórmula da variância amostral"
      ]
    },
    {
      "cell_type": "code",
      "execution_count": null,
      "id": "40cda497",
      "metadata": {
        "id": "40cda497"
      },
      "outputs": [],
      "source": [
        "def variancia_amostral(lista):\n",
        "    media_lista = media(lista)\n",
        "    tamanho_lista = len(lista)\n",
        "    \n",
        "    lista_distancias_quadradas = []\n",
        "    for observacao in lista:\n",
        "        distancia_quadrada = (observacao - media_lista) ** 2\n",
        "        lista_distancias_quadradas.append(distancia_quadrada)\n",
        "    \n",
        "    variancia = sum(lista_distancias_quadradas)/tamanho_lista\n",
        "    \n",
        "    return variancia"
      ]
    },
    {
      "cell_type": "code",
      "execution_count": null,
      "id": "175f6f0f",
      "metadata": {
        "id": "175f6f0f"
      },
      "outputs": [],
      "source": []
    },
    {
      "cell_type": "code",
      "execution_count": null,
      "id": "93782d97",
      "metadata": {
        "id": "93782d97"
      },
      "outputs": [],
      "source": []
    },
    {
      "cell_type": "code",
      "execution_count": null,
      "id": "c313b70d",
      "metadata": {
        "id": "c313b70d",
        "outputId": "47300615-66f3-46df-fb9c-1c5b179bf40d"
      },
      "outputs": [
        {
          "data": {
            "text/plain": [
              "2.0"
            ]
          },
          "execution_count": 14,
          "metadata": {},
          "output_type": "execute_result"
        }
      ],
      "source": [
        "variancia_amostral(lista_exemplo_variancia)"
      ]
    },
    {
      "cell_type": "code",
      "execution_count": null,
      "id": "ac2e1f6f",
      "metadata": {
        "id": "ac2e1f6f"
      },
      "outputs": [],
      "source": []
    },
    {
      "cell_type": "markdown",
      "id": "8f7414b8",
      "metadata": {
        "id": "8f7414b8"
      },
      "source": [
        "#### Podemos usar um pacote pronto para calcular a variância, não é necessário implementar toda vez"
      ]
    },
    {
      "cell_type": "code",
      "execution_count": null,
      "id": "31be35b0",
      "metadata": {
        "id": "31be35b0"
      },
      "outputs": [],
      "source": [
        "import numpy as np"
      ]
    },
    {
      "cell_type": "code",
      "execution_count": null,
      "id": "1be7d408",
      "metadata": {
        "id": "1be7d408",
        "outputId": "47bb33e6-459f-4296-c27a-47d0ddb89e83"
      },
      "outputs": [
        {
          "data": {
            "text/plain": [
              "2.0"
            ]
          },
          "execution_count": 17,
          "metadata": {},
          "output_type": "execute_result"
        }
      ],
      "source": [
        "np.var(lista_exemplo_variancia)"
      ]
    },
    {
      "cell_type": "code",
      "execution_count": null,
      "id": "3c3b50f7",
      "metadata": {
        "id": "3c3b50f7"
      },
      "outputs": [],
      "source": []
    },
    {
      "cell_type": "markdown",
      "id": "ac2f1c76",
      "metadata": {
        "id": "ac2f1c76"
      },
      "source": [
        "### É bem tranquilo calcular a variância com pandas"
      ]
    },
    {
      "cell_type": "code",
      "execution_count": null,
      "id": "d0b5436c",
      "metadata": {
        "id": "d0b5436c",
        "outputId": "cd6eeb06-57c0-4e8f-9e52-ddc458e6130a"
      },
      "outputs": [
        {
          "data": {
            "text/plain": [
              "1.8311856107660458"
            ]
          },
          "execution_count": 18,
          "metadata": {},
          "output_type": "execute_result"
        }
      ],
      "source": [
        "df['dollar_price'].var()"
      ]
    },
    {
      "cell_type": "markdown",
      "id": "2c123064",
      "metadata": {
        "id": "2c123064"
      },
      "source": [
        "Essa é a variância do preço do Big Mac no mundo, em dólares"
      ]
    },
    {
      "cell_type": "code",
      "execution_count": null,
      "id": "2ba2338a",
      "metadata": {
        "id": "2ba2338a"
      },
      "outputs": [],
      "source": []
    },
    {
      "cell_type": "code",
      "execution_count": null,
      "id": "af888bab",
      "metadata": {
        "id": "af888bab"
      },
      "outputs": [],
      "source": []
    },
    {
      "cell_type": "code",
      "execution_count": null,
      "id": "351aff3c",
      "metadata": {
        "id": "351aff3c"
      },
      "outputs": [],
      "source": []
    },
    {
      "cell_type": "code",
      "execution_count": null,
      "id": "e7fb54cb",
      "metadata": {
        "id": "e7fb54cb"
      },
      "outputs": [],
      "source": []
    },
    {
      "cell_type": "markdown",
      "id": "2fe90997",
      "metadata": {
        "id": "2fe90997"
      },
      "source": [
        "### Assim como a média, a variância é facilmente influenciada por valores extremos!"
      ]
    },
    {
      "cell_type": "code",
      "execution_count": null,
      "id": "be23eab7",
      "metadata": {
        "id": "be23eab7"
      },
      "outputs": [],
      "source": []
    },
    {
      "cell_type": "markdown",
      "id": "6130750d",
      "metadata": {
        "id": "6130750d"
      },
      "source": [
        "Lista equilibrada"
      ]
    },
    {
      "cell_type": "code",
      "execution_count": null,
      "id": "a38ea229",
      "metadata": {
        "id": "a38ea229"
      },
      "outputs": [],
      "source": [
        "lista_alturas_1 = [1.67, 1.72, 1.70, 1.69, 1.74, 1.71]"
      ]
    },
    {
      "cell_type": "code",
      "execution_count": null,
      "id": "62f95ea1",
      "metadata": {
        "id": "62f95ea1",
        "outputId": "d5f178d3-2956-4cb1-bdce-395702ea4d7f"
      },
      "outputs": [
        {
          "data": {
            "text/plain": [
              "1.705"
            ]
          },
          "execution_count": 22,
          "metadata": {},
          "output_type": "execute_result"
        }
      ],
      "source": [
        "media(lista_alturas_1)"
      ]
    },
    {
      "cell_type": "code",
      "execution_count": null,
      "id": "6b8bfd5d",
      "metadata": {
        "id": "6b8bfd5d",
        "outputId": "4abd5ba7-4c64-451d-9e98-85369cceb2c8"
      },
      "outputs": [
        {
          "data": {
            "text/plain": [
              "0.0004916666666666675"
            ]
          },
          "execution_count": 23,
          "metadata": {},
          "output_type": "execute_result"
        }
      ],
      "source": [
        "np.var(lista_alturas_1)"
      ]
    },
    {
      "cell_type": "code",
      "execution_count": null,
      "id": "289b4dd4",
      "metadata": {
        "id": "289b4dd4"
      },
      "outputs": [],
      "source": []
    },
    {
      "cell_type": "code",
      "execution_count": null,
      "id": "e30588bd",
      "metadata": {
        "id": "e30588bd"
      },
      "outputs": [],
      "source": []
    },
    {
      "cell_type": "markdown",
      "id": "2245f6a0",
      "metadata": {
        "id": "2245f6a0"
      },
      "source": [
        "Lista mais espaçada"
      ]
    },
    {
      "cell_type": "code",
      "execution_count": null,
      "id": "7e2b564c",
      "metadata": {
        "id": "7e2b564c"
      },
      "outputs": [],
      "source": [
        "lista_alturas_2 = [1.60, 1.66, 1.72, 1.69, 1.78, 1.77]"
      ]
    },
    {
      "cell_type": "code",
      "execution_count": null,
      "id": "518b3d88",
      "metadata": {
        "id": "518b3d88",
        "outputId": "c147d463-5325-4617-f0fd-67068a2cd657"
      },
      "outputs": [
        {
          "data": {
            "text/plain": [
              "1.7033333333333331"
            ]
          },
          "execution_count": 25,
          "metadata": {},
          "output_type": "execute_result"
        }
      ],
      "source": [
        "media(lista_alturas_2)"
      ]
    },
    {
      "cell_type": "code",
      "execution_count": null,
      "id": "118a9a99",
      "metadata": {
        "id": "118a9a99",
        "outputId": "a44b2375-e821-45eb-cca7-d314fa64ce99"
      },
      "outputs": [
        {
          "data": {
            "text/plain": [
              "0.0038888888888888883"
            ]
          },
          "execution_count": 26,
          "metadata": {},
          "output_type": "execute_result"
        }
      ],
      "source": [
        "np.var(lista_alturas_2)"
      ]
    },
    {
      "cell_type": "code",
      "execution_count": null,
      "id": "e3ba755f",
      "metadata": {
        "id": "e3ba755f"
      },
      "outputs": [],
      "source": []
    },
    {
      "cell_type": "code",
      "execution_count": null,
      "id": "599ca1ec",
      "metadata": {
        "id": "599ca1ec"
      },
      "outputs": [],
      "source": []
    },
    {
      "cell_type": "markdown",
      "id": "c678bd3d",
      "metadata": {
        "id": "c678bd3d"
      },
      "source": [
        "Lista com uma altura bem menor do que as outras"
      ]
    },
    {
      "cell_type": "code",
      "execution_count": null,
      "id": "b1964473",
      "metadata": {
        "id": "b1964473"
      },
      "outputs": [],
      "source": [
        "lista_alturas_3 = [1.20, 1.72, 1.70, 1.69, 1.74, 1.71]"
      ]
    },
    {
      "cell_type": "code",
      "execution_count": null,
      "id": "dc5f58ce",
      "metadata": {
        "id": "dc5f58ce",
        "outputId": "8cbc9f26-9b65-4b84-a4cb-12c1d2ac8461"
      },
      "outputs": [
        {
          "data": {
            "text/plain": [
              "1.626666666666667"
            ]
          },
          "execution_count": 28,
          "metadata": {},
          "output_type": "execute_result"
        }
      ],
      "source": [
        "media(lista_alturas_3)"
      ]
    },
    {
      "cell_type": "code",
      "execution_count": null,
      "id": "a27df608",
      "metadata": {
        "id": "a27df608",
        "outputId": "18b160dd-31f0-4eec-cc5c-64f606da8cfb"
      },
      "outputs": [
        {
          "data": {
            "text/plain": [
              "0.03665555555555556"
            ]
          },
          "execution_count": 29,
          "metadata": {},
          "output_type": "execute_result"
        }
      ],
      "source": [
        "np.var(lista_alturas_3)"
      ]
    },
    {
      "cell_type": "code",
      "execution_count": null,
      "id": "d0a5d42c",
      "metadata": {
        "id": "d0a5d42c"
      },
      "outputs": [],
      "source": []
    },
    {
      "cell_type": "code",
      "execution_count": null,
      "id": "fd618edc",
      "metadata": {
        "id": "fd618edc"
      },
      "outputs": [],
      "source": []
    },
    {
      "cell_type": "markdown",
      "id": "ea38d2b2",
      "metadata": {
        "id": "ea38d2b2"
      },
      "source": [
        "Lista com uma altura bem maior do que as outras"
      ]
    },
    {
      "cell_type": "code",
      "execution_count": null,
      "id": "8dccbca1",
      "metadata": {
        "id": "8dccbca1"
      },
      "outputs": [],
      "source": [
        "lista_alturas_4 = [1.67, 1.72, 1.70, 1.69, 1.74, 2.24]"
      ]
    },
    {
      "cell_type": "code",
      "execution_count": null,
      "id": "cf29ca4f",
      "metadata": {
        "id": "cf29ca4f",
        "outputId": "19f827d0-c187-4cb2-ecf9-a124f3277fd7"
      },
      "outputs": [
        {
          "data": {
            "text/plain": [
              "1.7933333333333332"
            ]
          },
          "execution_count": 31,
          "metadata": {},
          "output_type": "execute_result"
        }
      ],
      "source": [
        "media(lista_alturas_4)"
      ]
    },
    {
      "cell_type": "code",
      "execution_count": null,
      "id": "9a7af12c",
      "metadata": {
        "id": "9a7af12c",
        "outputId": "feaf95d0-c183-4fab-8021-047365eccc11"
      },
      "outputs": [
        {
          "data": {
            "text/plain": [
              "0.040388888888888926"
            ]
          },
          "execution_count": 32,
          "metadata": {},
          "output_type": "execute_result"
        }
      ],
      "source": [
        "np.var(lista_alturas_4)"
      ]
    },
    {
      "cell_type": "code",
      "execution_count": null,
      "id": "6600b2c7",
      "metadata": {
        "id": "6600b2c7"
      },
      "outputs": [],
      "source": []
    },
    {
      "cell_type": "code",
      "execution_count": null,
      "id": "56e03143",
      "metadata": {
        "id": "56e03143"
      },
      "outputs": [],
      "source": []
    },
    {
      "cell_type": "code",
      "execution_count": null,
      "id": "f59cc421",
      "metadata": {
        "id": "f59cc421"
      },
      "outputs": [],
      "source": []
    },
    {
      "cell_type": "markdown",
      "id": "3cbc11f9",
      "metadata": {
        "id": "3cbc11f9"
      },
      "source": [
        "## Viu o que acontece com a variância?"
      ]
    },
    {
      "cell_type": "code",
      "execution_count": null,
      "id": "cb068883",
      "metadata": {
        "id": "cb068883"
      },
      "outputs": [],
      "source": []
    },
    {
      "cell_type": "markdown",
      "id": "1e4f1228",
      "metadata": {
        "id": "1e4f1228"
      },
      "source": [
        "---"
      ]
    },
    {
      "cell_type": "markdown",
      "id": "ffe10dde",
      "metadata": {
        "id": "ffe10dde"
      },
      "source": [
        "`Desvio Padrão`"
      ]
    },
    {
      "cell_type": "markdown",
      "id": "5f7f80ff",
      "metadata": {
        "id": "5f7f80ff"
      },
      "source": [
        "## No cálculo da variância, elevamos as diferenças ao quadrado para que as distaâncias sejam positivas. Entretanto, ao fazer isso, a variância acaba ficando numa escala diferente dos dados, porque está em uma escala quadrática. Por isso, utilizamos o `desvio padrão`, que nada mais é do que a raiz quadrada da variância.\n",
        "\n",
        "<br>\n",
        "\n",
        "\n",
        "![alt_text](https://toptipbio.com/wp-content/uploads/2021/09/Standard-deviation-formula.jpg)"
      ]
    },
    {
      "cell_type": "markdown",
      "id": "9a2d5fc5",
      "metadata": {
        "id": "9a2d5fc5"
      },
      "source": [
        "<br>\n",
        "<br>"
      ]
    },
    {
      "cell_type": "markdown",
      "id": "db536732",
      "metadata": {
        "id": "db536732"
      },
      "source": [
        "### Vamos ver um exemplo do cálculo do desvio padrão\n",
        "\n",
        "![alt_text](https://1.bp.blogspot.com/-uuORHtcAzvM/V0Hyje4xMQI/AAAAAAAACNY/U9NlBu-FQxQDZxYpgtoONviPXO8q9RgIQCLcB/s1600/chat.jpg)"
      ]
    },
    {
      "cell_type": "markdown",
      "id": "6e736e06",
      "metadata": {
        "id": "6e736e06"
      },
      "source": [
        "### É simples calcular a desvio padrão com pandas"
      ]
    },
    {
      "cell_type": "code",
      "execution_count": null,
      "id": "c199e5c9",
      "metadata": {
        "id": "c199e5c9",
        "outputId": "6aa57abe-e270-416a-ae4c-c47e17a01696"
      },
      "outputs": [
        {
          "data": {
            "text/plain": [
              "1.3532130692415167"
            ]
          },
          "execution_count": 34,
          "metadata": {},
          "output_type": "execute_result"
        }
      ],
      "source": [
        "df['dollar_price'].std()"
      ]
    },
    {
      "cell_type": "markdown",
      "id": "50110d78",
      "metadata": {
        "id": "50110d78"
      },
      "source": [
        "Esse é o desvio padrão do preço do Big Mac no mundo, em dólares"
      ]
    },
    {
      "cell_type": "code",
      "execution_count": null,
      "id": "fc48bcec",
      "metadata": {
        "id": "fc48bcec"
      },
      "outputs": [],
      "source": []
    },
    {
      "cell_type": "markdown",
      "id": "fd4bcc1a",
      "metadata": {
        "id": "fd4bcc1a"
      },
      "source": [
        "#### Podemos usar um pacote pronto para calcular o desvio padrão"
      ]
    },
    {
      "cell_type": "code",
      "execution_count": null,
      "id": "8823c519",
      "metadata": {
        "id": "8823c519",
        "outputId": "b025c216-4965-4ab2-ef8b-11c1b22df0ab"
      },
      "outputs": [
        {
          "data": {
            "text/plain": [
              "1.4142135623730951"
            ]
          },
          "execution_count": 37,
          "metadata": {},
          "output_type": "execute_result"
        }
      ],
      "source": [
        "np.std(lista_exemplo_variancia)"
      ]
    },
    {
      "cell_type": "code",
      "execution_count": null,
      "id": "639d74dd",
      "metadata": {
        "id": "639d74dd"
      },
      "outputs": [],
      "source": []
    },
    {
      "cell_type": "code",
      "execution_count": null,
      "id": "4a6e3884",
      "metadata": {
        "id": "4a6e3884"
      },
      "outputs": [],
      "source": []
    },
    {
      "cell_type": "markdown",
      "id": "f9815cd9",
      "metadata": {
        "id": "f9815cd9"
      },
      "source": [
        "### Como o desvio padrão é a raiz quadrada da variância, ele também vai, assim como a média, ser facilmente influenciada por valores extremos"
      ]
    },
    {
      "cell_type": "code",
      "execution_count": null,
      "id": "d61075b3",
      "metadata": {
        "id": "d61075b3"
      },
      "outputs": [],
      "source": []
    },
    {
      "cell_type": "code",
      "execution_count": null,
      "id": "c8044b9c",
      "metadata": {
        "id": "c8044b9c"
      },
      "outputs": [],
      "source": []
    },
    {
      "cell_type": "code",
      "execution_count": null,
      "id": "6cfcf0b7",
      "metadata": {
        "id": "6cfcf0b7"
      },
      "outputs": [],
      "source": []
    },
    {
      "cell_type": "markdown",
      "id": "504c2ebf",
      "metadata": {
        "id": "504c2ebf"
      },
      "source": [
        "---"
      ]
    },
    {
      "cell_type": "markdown",
      "id": "06549bfd",
      "metadata": {
        "id": "06549bfd"
      },
      "source": [
        "`Coeficiente de Variação`"
      ]
    },
    {
      "cell_type": "markdown",
      "id": "752bb853",
      "metadata": {
        "id": "752bb853"
      },
      "source": [
        "## Com o desvio padrão, temos uma medida de dispersão na mesma escala dos nossos dados. Entretanto, como saber se os dados são muito variados ou pouco? Como saber se o nosso desvio padrão é pequeno ou grande? Para isso, temos o `Coeficiente de Variação`!\n",
        "<br>\n",
        "\n",
        "![image.png](attachment:image.png)"
      ]
    },
    {
      "cell_type": "markdown",
      "id": "4a7ba728",
      "metadata": {
        "id": "4a7ba728"
      },
      "source": [
        "#### O coeficiente de variação é o quociente entre o desvio padrão e a média e, já que multiplicamos por 100, ele vira uma porcentagem. Quanto maior essa porcentagem, podemos dizer que mais distantes da média os dados estão e, consequentemente, mais variados os dados estão."
      ]
    },
    {
      "cell_type": "code",
      "execution_count": null,
      "id": "93b0772b",
      "metadata": {
        "id": "93b0772b"
      },
      "outputs": [],
      "source": []
    },
    {
      "cell_type": "markdown",
      "id": "752b608d",
      "metadata": {
        "id": "752b608d"
      },
      "source": [
        "#### Vamos calcular o coeficiente de variação do preço do Big Mac em dólares"
      ]
    },
    {
      "cell_type": "code",
      "execution_count": null,
      "id": "8c79c76d",
      "metadata": {
        "id": "8c79c76d",
        "outputId": "8e3bec0a-9715-4db6-f2b9-6163cb6b4d42"
      },
      "outputs": [
        {
          "data": {
            "text/plain": [
              "33.800148027441985"
            ]
          },
          "execution_count": 40,
          "metadata": {},
          "output_type": "execute_result"
        }
      ],
      "source": [
        "coeficiente_variacao_big_mac = 100 * df['dollar_price'].std()/df['dollar_price'].mean()\n",
        "coeficiente_variacao_big_mac"
      ]
    },
    {
      "cell_type": "markdown",
      "id": "7341e459",
      "metadata": {
        "id": "7341e459"
      },
      "source": [
        "#### Os dados são bastante dispersos!"
      ]
    }
  ],
  "metadata": {
    "kernelspec": {
      "display_name": "Python 3 (ipykernel)",
      "language": "python",
      "name": "python3"
    },
    "language_info": {
      "codemirror_mode": {
        "name": "ipython",
        "version": 3
      },
      "file_extension": ".py",
      "mimetype": "text/x-python",
      "name": "python",
      "nbconvert_exporter": "python",
      "pygments_lexer": "ipython3",
      "version": "3.8.9"
    },
    "colab": {
      "provenance": [],
      "include_colab_link": true
    }
  },
  "nbformat": 4,
  "nbformat_minor": 5
}